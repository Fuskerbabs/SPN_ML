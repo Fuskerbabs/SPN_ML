{
 "cells": [
  {
   "cell_type": "code",
   "execution_count": null,
   "metadata": {},
   "outputs": [],
   "source": [
    "# import the necessary packages\n",
    "import matplotlib.pyplot as plt\n",
    "import cv2\n",
    "\n",
    "%matplotlib inline"
   ]
  },
  {
   "cell_type": "code",
   "execution_count": null,
   "metadata": {},
   "outputs": [],
   "source": [
    "%load_ext Cython"
   ]
  },
  {
   "cell_type": "code",
   "execution_count": null,
   "metadata": {},
   "outputs": [],
   "source": [
    "# reload the original image and convert it to grayscale\n",
    "image = cv2.imread(r'F:\\psohp\\tuts\\lucky\\DWr9RfuVoAEOxXt.jpg')\n",
    "plt.imshow(image, cmap=\"gray\")\n",
    "image = cv2.cvtColor(image, cv2.COLOR_BGR2GRAY)"
   ]
  },
  {
   "cell_type": "code",
   "execution_count": null,
   "metadata": {},
   "outputs": [],
   "source": [
    "%%cython -a\n",
    "import cython\n",
    "import numpy as np\n",
    "\n",
    "\n",
    "@cython.boundscheck(False)\n",
    "cpdef unsigned char[:, :] cai_filter(int T, unsigned char [:, :] image):\n",
    "    # set the variable extension types\n",
    "    cdef int x, y, w, h\n",
    "    cdef char cai_array[4]\n",
    "    \n",
    "    # grab the image dimensions\n",
    "    h = image.shape[0]\n",
    "    w = image.shape[1]\n",
    "    \n",
    "    # loop over the image\n",
    "    for y in range(1, h):\n",
    "        for x in range(1, w):\n",
    "            # calculate the pixel\n",
    "            n = y-1\n",
    "            e = x+1\n",
    "            s = y+1\n",
    "            w = x-1\n",
    "            cai_array = [n, s, e, w]\n",
    "\n",
    "            if np.max(cai_array) - np.min(cai_array) <= 20:\n",
    "                px = np.mean(cai_array)\n",
    "            elif np.absolute(e - w) - np.absolute(n - s) > 20:\n",
    "                px = (n+s)/2\n",
    "            elif np.absolute(n - s) - np.absolute(e - w)> 20:\n",
    "                px = (e+w)/2\n",
    "            else:\n",
    "                px = np.median(cai_array)\n",
    "            image[y, x] = px\n",
    "    # return the thresholded image\n",
    "    return image"
   ]
  },
  {
   "cell_type": "code",
   "execution_count": null,
   "metadata": {},
   "outputs": [],
   "source": [
    "%timeit cai_filter(5, image)\n",
    "image = cai_filter(5, image)\n",
    "plt.imshow(image, cmap=\"gray\")"
   ]
  }
 ],
 "metadata": {
  "kernelspec": {
   "display_name": "tensorflowenv",
   "language": "python",
   "name": "tensorflowenv"
  }
 },
 "nbformat": 4,
 "nbformat_minor": 2
}
